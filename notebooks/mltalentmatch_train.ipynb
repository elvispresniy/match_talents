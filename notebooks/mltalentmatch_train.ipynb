{
  "nbformat": 4,
  "nbformat_minor": 0,
  "metadata": {
    "colab": {
      "provenance": []
    },
    "kernelspec": {
      "name": "python3",
      "display_name": "Python 3"
    },
    "language_info": {
      "name": "python"
    }
  },
  "cells": [
    {
      "cell_type": "code",
      "execution_count": 1,
      "metadata": {
        "id": "eE6xP-Km09dP"
      },
      "outputs": [],
      "source": [
        "import pickle\n",
        "\n",
        "from sklearn.metrics.pairwise import cosine_similarity\n",
        "\n",
        "import datetime"
      ]
    },
    {
      "cell_type": "code",
      "source": [
        "path_vacancies = r\"/content/drive/MyDrive/hakathon/vacancies_train.pickle\"\n",
        "\n",
        "with open(path_vacancies, 'rb') as file:\n",
        "    vacancies = pickle.load(file)"
      ],
      "metadata": {
        "id": "Y-hpaxMZ1G1b"
      },
      "execution_count": 20,
      "outputs": []
    },
    {
      "cell_type": "code",
      "source": [
        "def simillarity_scores(resume: dict, vacancy: dict) -> dict:\n",
        "    scores = {\n",
        "        'description_about': 0.0,\n",
        "        'keywords_key_skills': 0.0,\n",
        "        'description_description': 0.0,\n",
        "        'name_position': 0.0,\n",
        "        'age_fits': 0.0,\n",
        "        'experience_fits': 0.0,\n",
        "        'country_fits': 0.0,\n",
        "        'language_fits': 0.0,\n",
        "        'education_fits': 0.0,\n",
        "    }\n",
        "\n",
        "    # Check description-about pair\n",
        "    if 'description_embedded' in vacancy and 'about_embedded' in resume:\n",
        "        scores['description_about'] = cosine_similarity([vacancy['description_embedded']], [resume['about_embedded']])[0][0]\n",
        "\n",
        "    # Check keywords-key_skills pair\n",
        "    if 'keywords_embedded' in vacancy and 'key_skills_embedded' in resume:\n",
        "        scores['keywords_key_skills'] = cosine_similarity([vacancy['keywords_embedded']], [resume['key_skills_embedded']])[0][0]\n",
        "\n",
        "    # Iterate over experienceItem\n",
        "    if 'experienceItem' in resume and resume['experienceItem']:\n",
        "        max_des_des_sim_score = -2\n",
        "        max_name_pos_sim_score = -2\n",
        "        total_experience = 0\n",
        "\n",
        "        for experience in resume['experienceItem']:\n",
        "            # Calculate maximal simillarity for description-description pair\n",
        "            if 'description_embedded' in vacancy and 'description_embedded' in experience:\n",
        "                sim_score = cosine_similarity([vacancy['description_embedded']], [experience['description_embedded']])[0][0]\n",
        "                max_des_des_sim_score = max(max_des_des_sim_score, sim_score)\n",
        "\n",
        "            # Calculate maximal simillarity for name-position pair\n",
        "            if 'name_embedded' in vacancy and 'position_embedded' in experience:\n",
        "                sim_score = cosine_similarity([vacancy['name_embedded']], [experience['position_embedded']])[0][0]\n",
        "                max_name_pos_sim_score = max(max_name_pos_sim_score, sim_score)\n",
        "\n",
        "            # Accumulate years of experience\n",
        "            if 'years_at_work' in experience and experience['years_at_work'] is not None:\n",
        "                total_experience += experience['years_at_work']\n",
        "\n",
        "        # Similarities\n",
        "        scores['description_description'] = max_des_des_sim_score if max_des_des_sim_score != -2 else 0\n",
        "        scores['name_position'] = max_name_pos_sim_score if max_name_pos_sim_score != -2 else 0\n",
        "\n",
        "        # Experience\n",
        "        if vacancy['extra_features']['experience'] is not None:\n",
        "            scores['experience_fits'] = float(total_experience >= vacancy['extra_features']['experience'])\n",
        "        else:\n",
        "            scores['experience_fits'] = 1\n",
        "\n",
        "    # Calculate if candidates age is appropriate\n",
        "    if resume['birth_date'] is not None:\n",
        "        min_age = vacancy['extra_features']['min age'] if vacancy['extra_features']['min age'] is not None else 18\n",
        "        max_age = vacancy['extra_features']['max age'] if vacancy['extra_features']['max age'] is not None else 99\n",
        "\n",
        "        age = (datetime.datetime.now() - datetime.datetime.strptime(resume['birth_date'], \"%Y-%m-%d\")).days // 365\n",
        "\n",
        "        scores['age_fits'] = float(min_age <= age <= max_age)\n",
        "\n",
        "    # Check if the country is matching\n",
        "    resumes_country = resume['country']\n",
        "\n",
        "    if vacancy['extra_features']['country'] is not None:\n",
        "        scores['country_fits'] = 1.0 if resumes_country in vacancy['extra_features']['country'] else 0.0\n",
        "\n",
        "    # Check if the languages are matching\n",
        "    if 'languageItems' in resume:\n",
        "        if vacancy['extra_features']['languages'] is None or len(vacancy['extra_features']['languages']) == 0:\n",
        "            scores['language_fits'] = 1.0\n",
        "        else:\n",
        "            for language in resume['languageItems']:\n",
        "               if language in vacancy['extra_features']['languages']:\n",
        "                    scores['language_fits'] = 1.0\n",
        "                    break\n",
        "    elif vacancy['extra_features']['languages'] is not None and 'Русский' in vacancy['extra_features']['languages']:\n",
        "        scores['language_fits'] = 1.0\n",
        "    else:\n",
        "        scores['language_fits'] = 0.0\n",
        "\n",
        "    # Check if the education matches\n",
        "    if vacancy['extra_features']['education level'] is not None:\n",
        "        if 'educationItem' in resume:\n",
        "            for education in resume['educationItem']:\n",
        "                education_level = education['education_level']\n",
        "                if education_level == 'Высшее' or education_level == 'Бакалавр' or education_level == 'Магистр':\n",
        "                    scores['education_fits'] = 1.0\n",
        "                    break\n",
        "    else:\n",
        "        scores['education_fits'] = 1.0\n",
        "\n",
        "\n",
        "    return scores"
      ],
      "metadata": {
        "id": "OM24yRzp1UV0"
      },
      "execution_count": 21,
      "outputs": []
    },
    {
      "cell_type": "code",
      "source": [
        "import torch\n",
        "import torch.nn as nn\n",
        "from torch.utils.data import DataLoader\n",
        "\n",
        "class Preceptron(nn.Module):\n",
        "    def __init__(self, num_features: int):\n",
        "        super().__init__()\n",
        "\n",
        "        self.linear = nn.Linear(num_features, 1)\n",
        "        self.sigmoid = nn.Sigmoid()\n",
        "\n",
        "    def forward(self, x):\n",
        "        return self.sigmoid(self.linear(x))"
      ],
      "metadata": {
        "id": "iM14pVnS2I87"
      },
      "execution_count": 36,
      "outputs": []
    },
    {
      "cell_type": "code",
      "source": [
        "num_features = 9\n",
        "lr = 1e-3\n",
        "\n",
        "model = Preceptron(num_features)\n",
        "\n",
        "loss_fn = nn.BCELoss()\n",
        "\n",
        "optimizer = torch.optim.SGD(model.parameters(), lr=lr)"
      ],
      "metadata": {
        "id": "n5k7dmrY4Y7e"
      },
      "execution_count": 90,
      "outputs": []
    },
    {
      "cell_type": "code",
      "source": [
        "from tqdm.auto import tqdm\n",
        "from random import shuffle\n",
        "\n",
        "num_iters = 1\n",
        "\n",
        "for i in tqdm(range(num_iters)):\n",
        "\n",
        "    for entry in vacancies:\n",
        "        vacancy = entry['vacancy']\n",
        "\n",
        "        failed = [*entry['failed_resumes']]\n",
        "        confirmed = [*entry['confirmed_resumes']]\n",
        "        shuffle(failed)\n",
        "        shuffle(confirmed)\n",
        "\n",
        "        clip = min(len(failed), len(confirmed))\n",
        "\n",
        "        failed = failed[:clip]\n",
        "        confirmed = confirmed[:clip]\n",
        "\n",
        "        train_set = failed + confirmed\n",
        "\n",
        "        shuffle(train_set)\n",
        "\n",
        "        for resume in train_set:\n",
        "            optimizer.zero_grad()\n",
        "\n",
        "            target = torch.tensor([resume['accepted']], dtype=torch.float32)\n",
        "\n",
        "            scores = simillarity_scores(resume, vacancy)\n",
        "\n",
        "            input = torch.tensor([*scores.values()], dtype=torch.float32)\n",
        "\n",
        "            output = model(input)\n",
        "\n",
        "            loss = loss_fn(output, target)\n",
        "\n",
        "            print(loss.item())\n",
        "\n",
        "            loss.backward()\n",
        "\n",
        "            optimizer.step()"
      ],
      "metadata": {
        "id": "mcZdNfvw2_KA"
      },
      "execution_count": null,
      "outputs": []
    },
    {
      "cell_type": "code",
      "source": [
        "def get_total_score(raw_scores: dict) -> float:\n",
        "    scores_weights = {\n",
        "      'description_about': 0.63205,\n",
        "      'keywords_key_skills': 0.947156,\n",
        "      'description_description': 0.862351,\n",
        "      'name_position': 0.782359,\n",
        "      'age_fits': 0.626857,\n",
        "      'experience_fits': 0.68093,\n",
        "      'country_fits': 0.23586,\n",
        "      'language_fits': 0.758273,\n",
        "      'education_fits': 0.41525,\n",
        "    }\n",
        "\n",
        "    weights_sum = sum(scores_weights.values())\n",
        "\n",
        "    total = 0\n",
        "\n",
        "    for key in scores_weights:\n",
        "        total += scores_weights[key] * raw_scores[key]\n",
        "\n",
        "    return total / weights_sum"
      ],
      "metadata": {
        "id": "ff0pTEF81ZmT"
      },
      "execution_count": 109,
      "outputs": []
    },
    {
      "cell_type": "code",
      "source": [
        "def uuid_scores(resumes: list, vacancy: dict) -> list[tuple]:\n",
        "    uuid_score_pairs = []\n",
        "\n",
        "    for resume in resumes:\n",
        "        scores_raw = simillarity_scores(resume, vacancy)\n",
        "        total_score = get_total_score(scores_raw)\n",
        "        uuid_score_pairs.append((resume['uuid'], total_score))\n",
        "\n",
        "    return sorted(uuid_score_pairs, key=lambda x: -x[-1])"
      ],
      "metadata": {
        "id": "ystVpKQx1gub"
      },
      "execution_count": 110,
      "outputs": []
    },
    {
      "cell_type": "code",
      "source": [
        "uuid_scores(vacancies[0]['confirmed_resumes'] + vacancies[0]['failed_resumes'], vacancies[0]['vacancy'])"
      ],
      "metadata": {
        "colab": {
          "base_uri": "https://localhost:8080/"
        },
        "id": "n33_WX2sWfQA",
        "outputId": "719c5b7a-81e4-4ffa-c1e8-f91937dfbff4"
      },
      "execution_count": 111,
      "outputs": [
        {
          "output_type": "execute_result",
          "data": {
            "text/plain": [
              "[('9d7eae36-11f8-3cac-9cb2-4cb0ff9d0ae7', 0.7345311601420307),\n",
              " ('2bfafd4b-592f-361e-a4d9-54472e4db85c', 0.7297444528837738),\n",
              " ('da4c44dd-7c00-3f75-98b4-096b533488a4', 0.7262895470095746),\n",
              " ('73d59615-b5b2-35fd-a15d-28963fe143d1', 0.7258135772152774),\n",
              " ('0d17d82a-bea2-3b7c-82ab-6852ce5ad754', 0.72576212863346),\n",
              " ('2b5ad5e1-1f31-3f3f-8a66-43cd89233672', 0.6986513143657087),\n",
              " ('aff6b6bd-89c2-3b2c-ab2e-0b9f76ac367c', 0.6794881168583148),\n",
              " ('02c0d043-72b0-35be-b21b-513d5a4c7bc8', 0.6776999219711829),\n",
              " ('dc28a8cc-14d0-367a-8d87-6969f83ae793', 0.6761152926954043),\n",
              " ('8c8cf797-2c6b-3f4b-b28b-20d57bd88b82', 0.6757982825281744),\n",
              " ('8196f47f-310f-3cbd-b40c-bc52c44a791e', 0.66878299804181),\n",
              " ('74392e00-ecfb-335b-9fc1-c2652dca06e5', 0.6628756231330444),\n",
              " ('ecfc02a1-592c-3ed0-a801-1ad9ab3d30b8', 0.6577919947873367),\n",
              " ('f015f782-526a-3e23-99c7-fa23ae2b5912', 0.645511701115726),\n",
              " ('74221d62-5ea6-3a68-8849-25acd97e208b', 0.6424344099516073),\n",
              " ('26f77e3e-2318-3158-9952-9bd6063ff580', 0.6270640655789685),\n",
              " ('0b4d660e-1d57-33aa-991b-cc81394d1bd9', 0.48523042186456256),\n",
              " ('ea1ac51a-e16b-367a-9216-52fb64809db1', 0.45306917081847947)]"
            ]
          },
          "metadata": {},
          "execution_count": 111
        }
      ]
    }
  ]
}